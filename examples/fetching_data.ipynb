{
 "cells": [
  {
   "attachments": {},
   "cell_type": "markdown",
   "metadata": {},
   "source": [
    "## Data Fetching Examples"
   ]
  },
  {
   "attachments": {},
   "cell_type": "markdown",
   "metadata": {},
   "source": [
    "### 1- Import the DataFetcher"
   ]
  },
  {
   "cell_type": "code",
   "execution_count": 2,
   "metadata": {},
   "outputs": [],
   "source": [
    "from torchtrade.data_processors.ccxt_fetcher import CcxtFetcher"
   ]
  },
  {
   "attachments": {},
   "cell_type": "markdown",
   "metadata": {},
   "source": [
    "### 2 - Create DataFetcher instance"
   ]
  },
  {
   "attachments": {},
   "cell_type": "markdown",
   "metadata": {},
   "source": [
    "DateFetcher Class accepts the following arguments\n",
    "- source (str): The exchange source to fetch data from (e.g binance)\n",
    "- symbols (list): List of symbols to fetch data for (e.g [\"BTC/USDT\",\"ETH/USDT\"])\n",
    "- timeframe (str): Timeframe of data to fetch (e.g \"4h\")\n",
    "- since (datetime, optional): The start date of the data to fetch. Defaults to 2015/01/01.\n",
    "- until (datetime, optional): The end date of the data to fetch. Defaults to None. \n",
    "  if until is none, it's automatically set to today's date"
   ]
  },
  {
   "cell_type": "code",
   "execution_count": 3,
   "metadata": {},
   "outputs": [],
   "source": [
    "from datetime import datetime\n",
    "since = datetime(2020,1,1)\n",
    "until = datetime(2023,1,1)\n",
    "datafetcher = DataFetcher(\"binance\",[\"BTC/USDT\",\"ETH/USDT\",\"ADA/USDT\"],\"1d\", since = since , until = until)"
   ]
  },
  {
   "attachments": {},
   "cell_type": "markdown",
   "metadata": {},
   "source": [
    "### 3 - Fetching Data\n",
    "-- WORK IN PROGRESS"
   ]
  },
  {
   "cell_type": "code",
   "execution_count": 4,
   "metadata": {},
   "outputs": [
    {
     "name": "stdout",
     "output_type": "stream",
     "text": [
      "Fetching 1d timeframe data since 2020-01-01 00:00:00 until 2023-01-01 00:00:00\n"
     ]
    },
    {
     "data": {
      "text/html": [
       "<div>\n",
       "<style scoped>\n",
       "    .dataframe tbody tr th:only-of-type {\n",
       "        vertical-align: middle;\n",
       "    }\n",
       "\n",
       "    .dataframe tbody tr th {\n",
       "        vertical-align: top;\n",
       "    }\n",
       "\n",
       "    .dataframe thead th {\n",
       "        text-align: right;\n",
       "    }\n",
       "</style>\n",
       "<table border=\"1\" class=\"dataframe\">\n",
       "  <thead>\n",
       "    <tr style=\"text-align: right;\">\n",
       "      <th></th>\n",
       "      <th></th>\n",
       "      <th>isTraded</th>\n",
       "      <th>open</th>\n",
       "      <th>high</th>\n",
       "      <th>low</th>\n",
       "      <th>close</th>\n",
       "      <th>volume</th>\n",
       "    </tr>\n",
       "    <tr>\n",
       "      <th>symbol</th>\n",
       "      <th>timestamp</th>\n",
       "      <th></th>\n",
       "      <th></th>\n",
       "      <th></th>\n",
       "      <th></th>\n",
       "      <th></th>\n",
       "      <th></th>\n",
       "    </tr>\n",
       "  </thead>\n",
       "  <tbody>\n",
       "    <tr>\n",
       "      <th rowspan=\"5\" valign=\"top\">BTC/USDT</th>\n",
       "      <th>1577836800000</th>\n",
       "      <td>1</td>\n",
       "      <td>7195.24</td>\n",
       "      <td>7255.0</td>\n",
       "      <td>7175.15</td>\n",
       "      <td>7200.85</td>\n",
       "      <td>16792.388165</td>\n",
       "    </tr>\n",
       "    <tr>\n",
       "      <th>1577923200000</th>\n",
       "      <td>1</td>\n",
       "      <td>7200.77</td>\n",
       "      <td>7212.5</td>\n",
       "      <td>6924.74</td>\n",
       "      <td>6965.71</td>\n",
       "      <td>31951.483932</td>\n",
       "    </tr>\n",
       "    <tr>\n",
       "      <th>1578009600000</th>\n",
       "      <td>1</td>\n",
       "      <td>6965.49</td>\n",
       "      <td>7405.0</td>\n",
       "      <td>6871.04</td>\n",
       "      <td>7344.96</td>\n",
       "      <td>68428.500451</td>\n",
       "    </tr>\n",
       "    <tr>\n",
       "      <th>1578096000000</th>\n",
       "      <td>1</td>\n",
       "      <td>7345.0</td>\n",
       "      <td>7404.0</td>\n",
       "      <td>7272.21</td>\n",
       "      <td>7354.11</td>\n",
       "      <td>29987.974977</td>\n",
       "    </tr>\n",
       "    <tr>\n",
       "      <th>1578182400000</th>\n",
       "      <td>1</td>\n",
       "      <td>7354.19</td>\n",
       "      <td>7495.0</td>\n",
       "      <td>7318.0</td>\n",
       "      <td>7358.75</td>\n",
       "      <td>38331.085604</td>\n",
       "    </tr>\n",
       "    <tr>\n",
       "      <th>...</th>\n",
       "      <th>...</th>\n",
       "      <td>...</td>\n",
       "      <td>...</td>\n",
       "      <td>...</td>\n",
       "      <td>...</td>\n",
       "      <td>...</td>\n",
       "      <td>...</td>\n",
       "    </tr>\n",
       "    <tr>\n",
       "      <th rowspan=\"5\" valign=\"top\">ADA/USDT</th>\n",
       "      <th>1672185600000</th>\n",
       "      <td>1</td>\n",
       "      <td>0.2603</td>\n",
       "      <td>0.2611</td>\n",
       "      <td>0.2468</td>\n",
       "      <td>0.2482</td>\n",
       "      <td>115688916.7</td>\n",
       "    </tr>\n",
       "    <tr>\n",
       "      <th>1672272000000</th>\n",
       "      <td>1</td>\n",
       "      <td>0.2483</td>\n",
       "      <td>0.2484</td>\n",
       "      <td>0.2396</td>\n",
       "      <td>0.244</td>\n",
       "      <td>119235796.6</td>\n",
       "    </tr>\n",
       "    <tr>\n",
       "      <th>1672358400000</th>\n",
       "      <td>1</td>\n",
       "      <td>0.244</td>\n",
       "      <td>0.2463</td>\n",
       "      <td>0.2392</td>\n",
       "      <td>0.2458</td>\n",
       "      <td>77783257.0</td>\n",
       "    </tr>\n",
       "    <tr>\n",
       "      <th>1672444800000</th>\n",
       "      <td>1</td>\n",
       "      <td>0.2457</td>\n",
       "      <td>0.2521</td>\n",
       "      <td>0.244</td>\n",
       "      <td>0.2458</td>\n",
       "      <td>66923069.1</td>\n",
       "    </tr>\n",
       "    <tr>\n",
       "      <th>1672531200000</th>\n",
       "      <td>1</td>\n",
       "      <td>0.2458</td>\n",
       "      <td>0.25</td>\n",
       "      <td>0.2434</td>\n",
       "      <td>0.2499</td>\n",
       "      <td>49487029.5</td>\n",
       "    </tr>\n",
       "  </tbody>\n",
       "</table>\n",
       "<p>3291 rows × 6 columns</p>\n",
       "</div>"
      ],
      "text/plain": [
       "                       isTraded     open    high      low    close  \\\n",
       "symbol   timestamp                                                   \n",
       "BTC/USDT 1577836800000        1  7195.24  7255.0  7175.15  7200.85   \n",
       "         1577923200000        1  7200.77  7212.5  6924.74  6965.71   \n",
       "         1578009600000        1  6965.49  7405.0  6871.04  7344.96   \n",
       "         1578096000000        1   7345.0  7404.0  7272.21  7354.11   \n",
       "         1578182400000        1  7354.19  7495.0   7318.0  7358.75   \n",
       "...                         ...      ...     ...      ...      ...   \n",
       "ADA/USDT 1672185600000        1   0.2603  0.2611   0.2468   0.2482   \n",
       "         1672272000000        1   0.2483  0.2484   0.2396    0.244   \n",
       "         1672358400000        1    0.244  0.2463   0.2392   0.2458   \n",
       "         1672444800000        1   0.2457  0.2521    0.244   0.2458   \n",
       "         1672531200000        1   0.2458    0.25   0.2434   0.2499   \n",
       "\n",
       "                              volume  \n",
       "symbol   timestamp                    \n",
       "BTC/USDT 1577836800000  16792.388165  \n",
       "         1577923200000  31951.483932  \n",
       "         1578009600000  68428.500451  \n",
       "         1578096000000  29987.974977  \n",
       "         1578182400000  38331.085604  \n",
       "...                              ...  \n",
       "ADA/USDT 1672185600000   115688916.7  \n",
       "         1672272000000   119235796.6  \n",
       "         1672358400000    77783257.0  \n",
       "         1672444800000    66923069.1  \n",
       "         1672531200000    49487029.5  \n",
       "\n",
       "[3291 rows x 6 columns]"
      ]
     },
     "execution_count": 4,
     "metadata": {},
     "output_type": "execute_result"
    }
   ],
   "source": [
    "data = datafetcher.fetch_data()\n",
    "data"
   ]
  },
  {
   "cell_type": "markdown",
   "metadata": {},
   "source": []
  }
 ],
 "metadata": {
  "kernelspec": {
   "display_name": "Python 3",
   "language": "python",
   "name": "python3"
  },
  "language_info": {
   "codemirror_mode": {
    "name": "ipython",
    "version": 3
   },
   "file_extension": ".py",
   "mimetype": "text/x-python",
   "name": "python",
   "nbconvert_exporter": "python",
   "pygments_lexer": "ipython3",
   "version": "3.11.1"
  },
  "orig_nbformat": 4,
  "vscode": {
   "interpreter": {
    "hash": "aad62593136557f81eb1e0da5d61162730a05ff7f6ef9856b9a559499e972a32"
   }
  }
 },
 "nbformat": 4,
 "nbformat_minor": 2
}
