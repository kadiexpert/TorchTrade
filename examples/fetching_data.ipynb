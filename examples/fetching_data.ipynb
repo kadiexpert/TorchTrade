{
 "cells": [
  {
   "cell_type": "markdown",
   "metadata": {},
   "source": []
  },
  {
   "attachments": {},
   "cell_type": "markdown",
   "metadata": {},
   "source": [
    "## Data Fetching Examples"
   ]
  },
  {
   "attachments": {},
   "cell_type": "markdown",
   "metadata": {},
   "source": [
    "### 1- Import the DataFetcher"
   ]
  },
  {
   "cell_type": "code",
   "execution_count": 12,
   "metadata": {},
   "outputs": [],
   "source": [
    "from torchtrade.data_processors.ccxt_fetcher import CcxtFetcher\n",
    "from torchtrade.envs.components.market import  Market\n",
    "from torchtrade.envs.components.clock import Clock\n",
    "from torchtrade.envs.components.trade import BoundedTrade\n",
    "from datetime import datetime\n",
    "import pandas as pd\n",
    "import numpy as np"
   ]
  },
  {
   "cell_type": "code",
   "execution_count": 13,
   "metadata": {},
   "outputs": [],
   "source": [
    "# Setting params\n",
    "exchange = \"binance\"\n",
    "symbols = [\"BTC/USDT\",\"ETH/USDT\"]\n",
    "timeFrame = \"1d\""
   ]
  },
  {
   "cell_type": "code",
   "execution_count": 14,
   "metadata": {},
   "outputs": [
    {
     "name": "stdout",
     "output_type": "stream",
     "text": [
      "Fetching 1d timeframe data since 2017-08-17 00:00:00 until 2023-02-20 00:00:00\n"
     ]
    }
   ],
   "source": [
    "# Defining the market\n",
    "datafetcher = CcxtFetcher(exchange,symbols,timeFrame)\n",
    "df = datafetcher.fetch_data()\n"
   ]
  },
  {
   "cell_type": "code",
   "execution_count": 15,
   "metadata": {},
   "outputs": [],
   "source": [
    "#Setting the clock\n",
    "time_start = df.index[0][1]\n",
    "time_end = df.index[-1][1]\n",
    "\n",
    "\n",
    "clock = Clock(time_start,timeFrame)\n",
    "\n",
    "mkt = Market(df)\n",
    "\n",
    "#Market is observing the clock\n",
    "clock.register_observer(mkt)\n"
   ]
  },
  {
   "cell_type": "code",
   "execution_count": 16,
   "metadata": {},
   "outputs": [
    {
     "data": {
      "text/html": [
       "<div>\n",
       "<style scoped>\n",
       "    .dataframe tbody tr th:only-of-type {\n",
       "        vertical-align: middle;\n",
       "    }\n",
       "\n",
       "    .dataframe tbody tr th {\n",
       "        vertical-align: top;\n",
       "    }\n",
       "\n",
       "    .dataframe thead th {\n",
       "        text-align: right;\n",
       "    }\n",
       "</style>\n",
       "<table border=\"1\" class=\"dataframe\">\n",
       "  <thead>\n",
       "    <tr style=\"text-align: right;\">\n",
       "      <th></th>\n",
       "      <th></th>\n",
       "      <th>isTraded</th>\n",
       "      <th>open</th>\n",
       "      <th>high</th>\n",
       "      <th>low</th>\n",
       "      <th>close</th>\n",
       "      <th>volume</th>\n",
       "    </tr>\n",
       "    <tr>\n",
       "      <th>symbol</th>\n",
       "      <th>timestamp</th>\n",
       "      <th></th>\n",
       "      <th></th>\n",
       "      <th></th>\n",
       "      <th></th>\n",
       "      <th></th>\n",
       "      <th></th>\n",
       "    </tr>\n",
       "  </thead>\n",
       "  <tbody>\n",
       "    <tr>\n",
       "      <th rowspan=\"5\" valign=\"top\">BTC/USDT</th>\n",
       "      <th>2017-08-17</th>\n",
       "      <td>1</td>\n",
       "      <td>4261.48</td>\n",
       "      <td>4485.39</td>\n",
       "      <td>4200.74</td>\n",
       "      <td>4285.08</td>\n",
       "      <td>795.150377</td>\n",
       "    </tr>\n",
       "    <tr>\n",
       "      <th>2017-08-18</th>\n",
       "      <td>1</td>\n",
       "      <td>4285.08</td>\n",
       "      <td>4371.52</td>\n",
       "      <td>3938.77</td>\n",
       "      <td>4108.37</td>\n",
       "      <td>1199.888264</td>\n",
       "    </tr>\n",
       "    <tr>\n",
       "      <th>2017-08-19</th>\n",
       "      <td>1</td>\n",
       "      <td>4108.37</td>\n",
       "      <td>4184.69</td>\n",
       "      <td>3850.0</td>\n",
       "      <td>4139.98</td>\n",
       "      <td>381.309763</td>\n",
       "    </tr>\n",
       "    <tr>\n",
       "      <th>2017-08-20</th>\n",
       "      <td>1</td>\n",
       "      <td>4120.98</td>\n",
       "      <td>4211.08</td>\n",
       "      <td>4032.62</td>\n",
       "      <td>4086.29</td>\n",
       "      <td>467.083022</td>\n",
       "    </tr>\n",
       "    <tr>\n",
       "      <th>2017-08-21</th>\n",
       "      <td>1</td>\n",
       "      <td>4069.13</td>\n",
       "      <td>4119.62</td>\n",
       "      <td>3911.79</td>\n",
       "      <td>4016.0</td>\n",
       "      <td>691.74306</td>\n",
       "    </tr>\n",
       "    <tr>\n",
       "      <th>...</th>\n",
       "      <th>...</th>\n",
       "      <td>...</td>\n",
       "      <td>...</td>\n",
       "      <td>...</td>\n",
       "      <td>...</td>\n",
       "      <td>...</td>\n",
       "      <td>...</td>\n",
       "    </tr>\n",
       "    <tr>\n",
       "      <th rowspan=\"5\" valign=\"top\">ETH/USDT</th>\n",
       "      <th>2023-02-16</th>\n",
       "      <td>1</td>\n",
       "      <td>1674.92</td>\n",
       "      <td>1742.97</td>\n",
       "      <td>1633.72</td>\n",
       "      <td>1637.84</td>\n",
       "      <td>832723.6731</td>\n",
       "    </tr>\n",
       "    <tr>\n",
       "      <th>2023-02-17</th>\n",
       "      <td>1</td>\n",
       "      <td>1637.83</td>\n",
       "      <td>1722.0</td>\n",
       "      <td>1630.51</td>\n",
       "      <td>1693.87</td>\n",
       "      <td>579934.663</td>\n",
       "    </tr>\n",
       "    <tr>\n",
       "      <th>2023-02-18</th>\n",
       "      <td>1</td>\n",
       "      <td>1693.81</td>\n",
       "      <td>1713.13</td>\n",
       "      <td>1679.77</td>\n",
       "      <td>1691.62</td>\n",
       "      <td>267305.7813</td>\n",
       "    </tr>\n",
       "    <tr>\n",
       "      <th>2023-02-19</th>\n",
       "      <td>1</td>\n",
       "      <td>1691.62</td>\n",
       "      <td>1726.59</td>\n",
       "      <td>1666.14</td>\n",
       "      <td>1679.75</td>\n",
       "      <td>401023.0477</td>\n",
       "    </tr>\n",
       "    <tr>\n",
       "      <th>2023-02-20</th>\n",
       "      <td>1</td>\n",
       "      <td>1679.74</td>\n",
       "      <td>1699.54</td>\n",
       "      <td>1650.56</td>\n",
       "      <td>1692.85</td>\n",
       "      <td>170953.8091</td>\n",
       "    </tr>\n",
       "  </tbody>\n",
       "</table>\n",
       "<p>4028 rows × 6 columns</p>\n",
       "</div>"
      ],
      "text/plain": [
       "                    isTraded     open     high      low    close       volume\n",
       "symbol   timestamp                                                           \n",
       "BTC/USDT 2017-08-17        1  4261.48  4485.39  4200.74  4285.08   795.150377\n",
       "         2017-08-18        1  4285.08  4371.52  3938.77  4108.37  1199.888264\n",
       "         2017-08-19        1  4108.37  4184.69   3850.0  4139.98   381.309763\n",
       "         2017-08-20        1  4120.98  4211.08  4032.62  4086.29   467.083022\n",
       "         2017-08-21        1  4069.13  4119.62  3911.79   4016.0    691.74306\n",
       "...                      ...      ...      ...      ...      ...          ...\n",
       "ETH/USDT 2023-02-16        1  1674.92  1742.97  1633.72  1637.84  832723.6731\n",
       "         2023-02-17        1  1637.83   1722.0  1630.51  1693.87   579934.663\n",
       "         2023-02-18        1  1693.81  1713.13  1679.77  1691.62  267305.7813\n",
       "         2023-02-19        1  1691.62  1726.59  1666.14  1679.75  401023.0477\n",
       "         2023-02-20        1  1679.74  1699.54  1650.56  1692.85  170953.8091\n",
       "\n",
       "[4028 rows x 6 columns]"
      ]
     },
     "execution_count": 16,
     "metadata": {},
     "output_type": "execute_result"
    }
   ],
   "source": [
    "df"
   ]
  },
  {
   "attachments": {},
   "cell_type": "markdown",
   "metadata": {},
   "source": [
    "Labeling"
   ]
  },
  {
   "cell_type": "code",
   "execution_count": 17,
   "metadata": {},
   "outputs": [],
   "source": [
    "clock.reset()\n",
    "\n",
    "stop_loss_levels = [1,2,3,4,5]\n",
    "rr_levels = [1.5 , 2 , 2.5,3]\n",
    "\n",
    "trades= []\n",
    "while clock.timestamp < time_end : \n",
    "    data = mkt.data\n",
    "    for index, row in data.iterrows():\n",
    "        if row['isTraded'] == 1:\n",
    "            trade = [[index[0],index[1],sl,rr] + [BoundedTrade(index[0],index[1],row['close'],sl,rr,mkt,clock.timeframe,0.9)] for sl in stop_loss_levels for rr in rr_levels] \n",
    "            trades+=trade\n",
    "    clock.next()\n",
    "\n",
    "trd = pd.DataFrame(trades, columns =['symbol', 'timestamp','stopLoss','riskReward','trade'])\n",
    "trd.set_index(['symbol', 'timestamp', 'stopLoss', 'riskReward'], inplace=True)\n",
    "trd[\"win/loss\"] = trd['trade'].apply(lambda t : t.reward)\n",
    "trd.to_csv('data.csv',index=False)\n"
   ]
  }
 ],
 "metadata": {
  "kernelspec": {
   "display_name": "Python 3",
   "language": "python",
   "name": "python3"
  },
  "language_info": {
   "codemirror_mode": {
    "name": "ipython",
    "version": 3
   },
   "file_extension": ".py",
   "mimetype": "text/x-python",
   "name": "python",
   "nbconvert_exporter": "python",
   "pygments_lexer": "ipython3",
   "version": "3.10.9"
  },
  "orig_nbformat": 4,
  "vscode": {
   "interpreter": {
    "hash": "e8a076ef0d37c82058ef7a0b39e1acc2485677b3fc7642ff64bb66c73a638b56"
   }
  }
 },
 "nbformat": 4,
 "nbformat_minor": 2
}
