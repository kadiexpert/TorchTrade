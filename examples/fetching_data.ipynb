{
 "cells": [
  {
   "cell_type": "markdown",
   "metadata": {},
   "source": []
  },
  {
   "attachments": {},
   "cell_type": "markdown",
   "metadata": {},
   "source": [
    "## Data Fetching Examples"
   ]
  },
  {
   "attachments": {},
   "cell_type": "markdown",
   "metadata": {},
   "source": [
    "### 1- Import the DataFetcher"
   ]
  },
  {
   "cell_type": "code",
   "execution_count": 8,
   "metadata": {},
   "outputs": [],
   "source": [
    "from torchtrade.data_processors.ccxt_fetcher import CcxtFetcher\n",
    "from torchtrade.envs.components.market import  Market\n",
    "from torchtrade.envs.components.clock import Clock\n",
    "from torchtrade.envs.components.trade import BoundedTrade\n",
    "from datetime import datetime\n",
    "import pandas as pd\n",
    "import numpy as np"
   ]
  },
  {
   "cell_type": "code",
   "execution_count": 9,
   "metadata": {},
   "outputs": [],
   "source": [
    "# Setting params\n",
    "exchange = \"binance\"\n",
    "symbols = [\"BTC/USDT\",\"ETH/USDT\"]\n",
    "timeFrame = \"1d\""
   ]
  },
  {
   "cell_type": "code",
   "execution_count": 10,
   "metadata": {},
   "outputs": [
    {
     "ename": "NetworkError",
     "evalue": "binance GET https://api.binance.com/api/v3/exchangeInfo",
     "output_type": "error",
     "traceback": [
      "\u001b[1;31m---------------------------------------------------------------------------\u001b[0m",
      "\u001b[1;31mSSLCertVerificationError\u001b[0m                  Traceback (most recent call last)",
      "File \u001b[1;32mc:\\Users\\Zakaria.kadi\\Projects\\TorchTrade\\.conda\\lib\\site-packages\\urllib3\\connectionpool.py:703\u001b[0m, in \u001b[0;36mHTTPConnectionPool.urlopen\u001b[1;34m(self, method, url, body, headers, retries, redirect, assert_same_host, timeout, pool_timeout, release_conn, chunked, body_pos, **response_kw)\u001b[0m\n\u001b[0;32m    702\u001b[0m \u001b[39m# Make the request on the httplib connection object.\u001b[39;00m\n\u001b[1;32m--> 703\u001b[0m httplib_response \u001b[39m=\u001b[39m \u001b[39mself\u001b[39;49m\u001b[39m.\u001b[39;49m_make_request(\n\u001b[0;32m    704\u001b[0m     conn,\n\u001b[0;32m    705\u001b[0m     method,\n\u001b[0;32m    706\u001b[0m     url,\n\u001b[0;32m    707\u001b[0m     timeout\u001b[39m=\u001b[39;49mtimeout_obj,\n\u001b[0;32m    708\u001b[0m     body\u001b[39m=\u001b[39;49mbody,\n\u001b[0;32m    709\u001b[0m     headers\u001b[39m=\u001b[39;49mheaders,\n\u001b[0;32m    710\u001b[0m     chunked\u001b[39m=\u001b[39;49mchunked,\n\u001b[0;32m    711\u001b[0m )\n\u001b[0;32m    713\u001b[0m \u001b[39m# If we're going to release the connection in ``finally:``, then\u001b[39;00m\n\u001b[0;32m    714\u001b[0m \u001b[39m# the response doesn't need to know about the connection. Otherwise\u001b[39;00m\n\u001b[0;32m    715\u001b[0m \u001b[39m# it will also try to release it and we'll have a double-release\u001b[39;00m\n\u001b[0;32m    716\u001b[0m \u001b[39m# mess.\u001b[39;00m\n",
      "File \u001b[1;32mc:\\Users\\Zakaria.kadi\\Projects\\TorchTrade\\.conda\\lib\\site-packages\\urllib3\\connectionpool.py:386\u001b[0m, in \u001b[0;36mHTTPConnectionPool._make_request\u001b[1;34m(self, conn, method, url, timeout, chunked, **httplib_request_kw)\u001b[0m\n\u001b[0;32m    385\u001b[0m \u001b[39mtry\u001b[39;00m:\n\u001b[1;32m--> 386\u001b[0m     \u001b[39mself\u001b[39;49m\u001b[39m.\u001b[39;49m_validate_conn(conn)\n\u001b[0;32m    387\u001b[0m \u001b[39mexcept\u001b[39;00m (SocketTimeout, BaseSSLError) \u001b[39mas\u001b[39;00m e:\n\u001b[0;32m    388\u001b[0m     \u001b[39m# Py2 raises this as a BaseSSLError, Py3 raises it as socket timeout.\u001b[39;00m\n",
      "File \u001b[1;32mc:\\Users\\Zakaria.kadi\\Projects\\TorchTrade\\.conda\\lib\\site-packages\\urllib3\\connectionpool.py:1042\u001b[0m, in \u001b[0;36mHTTPSConnectionPool._validate_conn\u001b[1;34m(self, conn)\u001b[0m\n\u001b[0;32m   1041\u001b[0m \u001b[39mif\u001b[39;00m \u001b[39mnot\u001b[39;00m \u001b[39mgetattr\u001b[39m(conn, \u001b[39m\"\u001b[39m\u001b[39msock\u001b[39m\u001b[39m\"\u001b[39m, \u001b[39mNone\u001b[39;00m):  \u001b[39m# AppEngine might not have  `.sock`\u001b[39;00m\n\u001b[1;32m-> 1042\u001b[0m     conn\u001b[39m.\u001b[39;49mconnect()\n\u001b[0;32m   1044\u001b[0m \u001b[39mif\u001b[39;00m \u001b[39mnot\u001b[39;00m conn\u001b[39m.\u001b[39mis_verified:\n",
      "File \u001b[1;32mc:\\Users\\Zakaria.kadi\\Projects\\TorchTrade\\.conda\\lib\\site-packages\\urllib3\\connection.py:414\u001b[0m, in \u001b[0;36mHTTPSConnection.connect\u001b[1;34m(self)\u001b[0m\n\u001b[0;32m    412\u001b[0m     context\u001b[39m.\u001b[39mload_default_certs()\n\u001b[1;32m--> 414\u001b[0m \u001b[39mself\u001b[39m\u001b[39m.\u001b[39msock \u001b[39m=\u001b[39m ssl_wrap_socket(\n\u001b[0;32m    415\u001b[0m     sock\u001b[39m=\u001b[39;49mconn,\n\u001b[0;32m    416\u001b[0m     keyfile\u001b[39m=\u001b[39;49m\u001b[39mself\u001b[39;49m\u001b[39m.\u001b[39;49mkey_file,\n\u001b[0;32m    417\u001b[0m     certfile\u001b[39m=\u001b[39;49m\u001b[39mself\u001b[39;49m\u001b[39m.\u001b[39;49mcert_file,\n\u001b[0;32m    418\u001b[0m     key_password\u001b[39m=\u001b[39;49m\u001b[39mself\u001b[39;49m\u001b[39m.\u001b[39;49mkey_password,\n\u001b[0;32m    419\u001b[0m     ca_certs\u001b[39m=\u001b[39;49m\u001b[39mself\u001b[39;49m\u001b[39m.\u001b[39;49mca_certs,\n\u001b[0;32m    420\u001b[0m     ca_cert_dir\u001b[39m=\u001b[39;49m\u001b[39mself\u001b[39;49m\u001b[39m.\u001b[39;49mca_cert_dir,\n\u001b[0;32m    421\u001b[0m     ca_cert_data\u001b[39m=\u001b[39;49m\u001b[39mself\u001b[39;49m\u001b[39m.\u001b[39;49mca_cert_data,\n\u001b[0;32m    422\u001b[0m     server_hostname\u001b[39m=\u001b[39;49mserver_hostname,\n\u001b[0;32m    423\u001b[0m     ssl_context\u001b[39m=\u001b[39;49mcontext,\n\u001b[0;32m    424\u001b[0m     tls_in_tls\u001b[39m=\u001b[39;49mtls_in_tls,\n\u001b[0;32m    425\u001b[0m )\n\u001b[0;32m    427\u001b[0m \u001b[39m# If we're using all defaults and the connection\u001b[39;00m\n\u001b[0;32m    428\u001b[0m \u001b[39m# is TLSv1 or TLSv1.1 we throw a DeprecationWarning\u001b[39;00m\n\u001b[0;32m    429\u001b[0m \u001b[39m# for the host.\u001b[39;00m\n",
      "File \u001b[1;32mc:\\Users\\Zakaria.kadi\\Projects\\TorchTrade\\.conda\\lib\\site-packages\\urllib3\\util\\ssl_.py:449\u001b[0m, in \u001b[0;36mssl_wrap_socket\u001b[1;34m(sock, keyfile, certfile, cert_reqs, ca_certs, server_hostname, ssl_version, ciphers, ssl_context, ca_cert_dir, key_password, ca_cert_data, tls_in_tls)\u001b[0m\n\u001b[0;32m    448\u001b[0m \u001b[39mif\u001b[39;00m send_sni:\n\u001b[1;32m--> 449\u001b[0m     ssl_sock \u001b[39m=\u001b[39m _ssl_wrap_socket_impl(\n\u001b[0;32m    450\u001b[0m         sock, context, tls_in_tls, server_hostname\u001b[39m=\u001b[39;49mserver_hostname\n\u001b[0;32m    451\u001b[0m     )\n\u001b[0;32m    452\u001b[0m \u001b[39melse\u001b[39;00m:\n",
      "File \u001b[1;32mc:\\Users\\Zakaria.kadi\\Projects\\TorchTrade\\.conda\\lib\\site-packages\\urllib3\\util\\ssl_.py:493\u001b[0m, in \u001b[0;36m_ssl_wrap_socket_impl\u001b[1;34m(sock, ssl_context, tls_in_tls, server_hostname)\u001b[0m\n\u001b[0;32m    492\u001b[0m \u001b[39mif\u001b[39;00m server_hostname:\n\u001b[1;32m--> 493\u001b[0m     \u001b[39mreturn\u001b[39;00m ssl_context\u001b[39m.\u001b[39;49mwrap_socket(sock, server_hostname\u001b[39m=\u001b[39;49mserver_hostname)\n\u001b[0;32m    494\u001b[0m \u001b[39melse\u001b[39;00m:\n",
      "File \u001b[1;32mc:\\Users\\Zakaria.kadi\\Projects\\TorchTrade\\.conda\\lib\\ssl.py:513\u001b[0m, in \u001b[0;36mSSLContext.wrap_socket\u001b[1;34m(self, sock, server_side, do_handshake_on_connect, suppress_ragged_eofs, server_hostname, session)\u001b[0m\n\u001b[0;32m    507\u001b[0m \u001b[39mdef\u001b[39;00m \u001b[39mwrap_socket\u001b[39m(\u001b[39mself\u001b[39m, sock, server_side\u001b[39m=\u001b[39m\u001b[39mFalse\u001b[39;00m,\n\u001b[0;32m    508\u001b[0m                 do_handshake_on_connect\u001b[39m=\u001b[39m\u001b[39mTrue\u001b[39;00m,\n\u001b[0;32m    509\u001b[0m                 suppress_ragged_eofs\u001b[39m=\u001b[39m\u001b[39mTrue\u001b[39;00m,\n\u001b[0;32m    510\u001b[0m                 server_hostname\u001b[39m=\u001b[39m\u001b[39mNone\u001b[39;00m, session\u001b[39m=\u001b[39m\u001b[39mNone\u001b[39;00m):\n\u001b[0;32m    511\u001b[0m     \u001b[39m# SSLSocket class handles server_hostname encoding before it calls\u001b[39;00m\n\u001b[0;32m    512\u001b[0m     \u001b[39m# ctx._wrap_socket()\u001b[39;00m\n\u001b[1;32m--> 513\u001b[0m     \u001b[39mreturn\u001b[39;00m \u001b[39mself\u001b[39;49m\u001b[39m.\u001b[39;49msslsocket_class\u001b[39m.\u001b[39;49m_create(\n\u001b[0;32m    514\u001b[0m         sock\u001b[39m=\u001b[39;49msock,\n\u001b[0;32m    515\u001b[0m         server_side\u001b[39m=\u001b[39;49mserver_side,\n\u001b[0;32m    516\u001b[0m         do_handshake_on_connect\u001b[39m=\u001b[39;49mdo_handshake_on_connect,\n\u001b[0;32m    517\u001b[0m         suppress_ragged_eofs\u001b[39m=\u001b[39;49msuppress_ragged_eofs,\n\u001b[0;32m    518\u001b[0m         server_hostname\u001b[39m=\u001b[39;49mserver_hostname,\n\u001b[0;32m    519\u001b[0m         context\u001b[39m=\u001b[39;49m\u001b[39mself\u001b[39;49m,\n\u001b[0;32m    520\u001b[0m         session\u001b[39m=\u001b[39;49msession\n\u001b[0;32m    521\u001b[0m     )\n",
      "File \u001b[1;32mc:\\Users\\Zakaria.kadi\\Projects\\TorchTrade\\.conda\\lib\\ssl.py:1071\u001b[0m, in \u001b[0;36mSSLSocket._create\u001b[1;34m(cls, sock, server_side, do_handshake_on_connect, suppress_ragged_eofs, server_hostname, context, session)\u001b[0m\n\u001b[0;32m   1070\u001b[0m             \u001b[39mraise\u001b[39;00m \u001b[39mValueError\u001b[39;00m(\u001b[39m\"\u001b[39m\u001b[39mdo_handshake_on_connect should not be specified for non-blocking sockets\u001b[39m\u001b[39m\"\u001b[39m)\n\u001b[1;32m-> 1071\u001b[0m         \u001b[39mself\u001b[39;49m\u001b[39m.\u001b[39;49mdo_handshake()\n\u001b[0;32m   1072\u001b[0m \u001b[39mexcept\u001b[39;00m (\u001b[39mOSError\u001b[39;00m, \u001b[39mValueError\u001b[39;00m):\n",
      "File \u001b[1;32mc:\\Users\\Zakaria.kadi\\Projects\\TorchTrade\\.conda\\lib\\ssl.py:1342\u001b[0m, in \u001b[0;36mSSLSocket.do_handshake\u001b[1;34m(self, block)\u001b[0m\n\u001b[0;32m   1341\u001b[0m         \u001b[39mself\u001b[39m\u001b[39m.\u001b[39msettimeout(\u001b[39mNone\u001b[39;00m)\n\u001b[1;32m-> 1342\u001b[0m     \u001b[39mself\u001b[39;49m\u001b[39m.\u001b[39;49m_sslobj\u001b[39m.\u001b[39;49mdo_handshake()\n\u001b[0;32m   1343\u001b[0m \u001b[39mfinally\u001b[39;00m:\n",
      "\u001b[1;31mSSLCertVerificationError\u001b[0m: [SSL: CERTIFICATE_VERIFY_FAILED] certificate verify failed: self signed certificate in certificate chain (_ssl.c:997)",
      "\nDuring handling of the above exception, another exception occurred:\n",
      "\u001b[1;31mMaxRetryError\u001b[0m                             Traceback (most recent call last)",
      "File \u001b[1;32mc:\\Users\\Zakaria.kadi\\Projects\\TorchTrade\\.conda\\lib\\site-packages\\requests\\adapters.py:489\u001b[0m, in \u001b[0;36mHTTPAdapter.send\u001b[1;34m(self, request, stream, timeout, verify, cert, proxies)\u001b[0m\n\u001b[0;32m    488\u001b[0m \u001b[39mif\u001b[39;00m \u001b[39mnot\u001b[39;00m chunked:\n\u001b[1;32m--> 489\u001b[0m     resp \u001b[39m=\u001b[39m conn\u001b[39m.\u001b[39;49murlopen(\n\u001b[0;32m    490\u001b[0m         method\u001b[39m=\u001b[39;49mrequest\u001b[39m.\u001b[39;49mmethod,\n\u001b[0;32m    491\u001b[0m         url\u001b[39m=\u001b[39;49murl,\n\u001b[0;32m    492\u001b[0m         body\u001b[39m=\u001b[39;49mrequest\u001b[39m.\u001b[39;49mbody,\n\u001b[0;32m    493\u001b[0m         headers\u001b[39m=\u001b[39;49mrequest\u001b[39m.\u001b[39;49mheaders,\n\u001b[0;32m    494\u001b[0m         redirect\u001b[39m=\u001b[39;49m\u001b[39mFalse\u001b[39;49;00m,\n\u001b[0;32m    495\u001b[0m         assert_same_host\u001b[39m=\u001b[39;49m\u001b[39mFalse\u001b[39;49;00m,\n\u001b[0;32m    496\u001b[0m         preload_content\u001b[39m=\u001b[39;49m\u001b[39mFalse\u001b[39;49;00m,\n\u001b[0;32m    497\u001b[0m         decode_content\u001b[39m=\u001b[39;49m\u001b[39mFalse\u001b[39;49;00m,\n\u001b[0;32m    498\u001b[0m         retries\u001b[39m=\u001b[39;49m\u001b[39mself\u001b[39;49m\u001b[39m.\u001b[39;49mmax_retries,\n\u001b[0;32m    499\u001b[0m         timeout\u001b[39m=\u001b[39;49mtimeout,\n\u001b[0;32m    500\u001b[0m     )\n\u001b[0;32m    502\u001b[0m \u001b[39m# Send the request.\u001b[39;00m\n\u001b[0;32m    503\u001b[0m \u001b[39melse\u001b[39;00m:\n",
      "File \u001b[1;32mc:\\Users\\Zakaria.kadi\\Projects\\TorchTrade\\.conda\\lib\\site-packages\\urllib3\\connectionpool.py:787\u001b[0m, in \u001b[0;36mHTTPConnectionPool.urlopen\u001b[1;34m(self, method, url, body, headers, retries, redirect, assert_same_host, timeout, pool_timeout, release_conn, chunked, body_pos, **response_kw)\u001b[0m\n\u001b[0;32m    785\u001b[0m     e \u001b[39m=\u001b[39m ProtocolError(\u001b[39m\"\u001b[39m\u001b[39mConnection aborted.\u001b[39m\u001b[39m\"\u001b[39m, e)\n\u001b[1;32m--> 787\u001b[0m retries \u001b[39m=\u001b[39m retries\u001b[39m.\u001b[39;49mincrement(\n\u001b[0;32m    788\u001b[0m     method, url, error\u001b[39m=\u001b[39;49me, _pool\u001b[39m=\u001b[39;49m\u001b[39mself\u001b[39;49m, _stacktrace\u001b[39m=\u001b[39;49msys\u001b[39m.\u001b[39;49mexc_info()[\u001b[39m2\u001b[39;49m]\n\u001b[0;32m    789\u001b[0m )\n\u001b[0;32m    790\u001b[0m retries\u001b[39m.\u001b[39msleep()\n",
      "File \u001b[1;32mc:\\Users\\Zakaria.kadi\\Projects\\TorchTrade\\.conda\\lib\\site-packages\\urllib3\\util\\retry.py:592\u001b[0m, in \u001b[0;36mRetry.increment\u001b[1;34m(self, method, url, response, error, _pool, _stacktrace)\u001b[0m\n\u001b[0;32m    591\u001b[0m \u001b[39mif\u001b[39;00m new_retry\u001b[39m.\u001b[39mis_exhausted():\n\u001b[1;32m--> 592\u001b[0m     \u001b[39mraise\u001b[39;00m MaxRetryError(_pool, url, error \u001b[39mor\u001b[39;00m ResponseError(cause))\n\u001b[0;32m    594\u001b[0m log\u001b[39m.\u001b[39mdebug(\u001b[39m\"\u001b[39m\u001b[39mIncremented Retry for (url=\u001b[39m\u001b[39m'\u001b[39m\u001b[39m%s\u001b[39;00m\u001b[39m'\u001b[39m\u001b[39m): \u001b[39m\u001b[39m%r\u001b[39;00m\u001b[39m\"\u001b[39m, url, new_retry)\n",
      "\u001b[1;31mMaxRetryError\u001b[0m: HTTPSConnectionPool(host='api.binance.com', port=443): Max retries exceeded with url: /api/v3/exchangeInfo (Caused by SSLError(SSLCertVerificationError(1, '[SSL: CERTIFICATE_VERIFY_FAILED] certificate verify failed: self signed certificate in certificate chain (_ssl.c:997)')))",
      "\nDuring handling of the above exception, another exception occurred:\n",
      "\u001b[1;31mSSLError\u001b[0m                                  Traceback (most recent call last)",
      "File \u001b[1;32mc:\\Users\\Zakaria.kadi\\Projects\\TorchTrade\\.conda\\lib\\site-packages\\ccxt\\base\\exchange.py:599\u001b[0m, in \u001b[0;36mExchange.fetch\u001b[1;34m(self, url, method, headers, body)\u001b[0m\n\u001b[0;32m    598\u001b[0m \u001b[39mtry\u001b[39;00m:\n\u001b[1;32m--> 599\u001b[0m     response \u001b[39m=\u001b[39m \u001b[39mself\u001b[39;49m\u001b[39m.\u001b[39;49msession\u001b[39m.\u001b[39;49mrequest(\n\u001b[0;32m    600\u001b[0m         method,\n\u001b[0;32m    601\u001b[0m         url,\n\u001b[0;32m    602\u001b[0m         data\u001b[39m=\u001b[39;49mbody,\n\u001b[0;32m    603\u001b[0m         headers\u001b[39m=\u001b[39;49mrequest_headers,\n\u001b[0;32m    604\u001b[0m         timeout\u001b[39m=\u001b[39;49m\u001b[39mint\u001b[39;49m(\u001b[39mself\u001b[39;49m\u001b[39m.\u001b[39;49mtimeout \u001b[39m/\u001b[39;49m \u001b[39m1000\u001b[39;49m),\n\u001b[0;32m    605\u001b[0m         proxies\u001b[39m=\u001b[39;49m\u001b[39mself\u001b[39;49m\u001b[39m.\u001b[39;49mproxies,\n\u001b[0;32m    606\u001b[0m         verify\u001b[39m=\u001b[39;49m\u001b[39mself\u001b[39;49m\u001b[39m.\u001b[39;49mverify \u001b[39mand\u001b[39;49;00m \u001b[39mself\u001b[39;49m\u001b[39m.\u001b[39;49mvalidateServerSsl\n\u001b[0;32m    607\u001b[0m     )\n\u001b[0;32m    608\u001b[0m     \u001b[39m# does not try to detect encoding\u001b[39;00m\n",
      "File \u001b[1;32mc:\\Users\\Zakaria.kadi\\Projects\\TorchTrade\\.conda\\lib\\site-packages\\requests\\sessions.py:587\u001b[0m, in \u001b[0;36mSession.request\u001b[1;34m(self, method, url, params, data, headers, cookies, files, auth, timeout, allow_redirects, proxies, hooks, stream, verify, cert, json)\u001b[0m\n\u001b[0;32m    586\u001b[0m send_kwargs\u001b[39m.\u001b[39mupdate(settings)\n\u001b[1;32m--> 587\u001b[0m resp \u001b[39m=\u001b[39m \u001b[39mself\u001b[39m\u001b[39m.\u001b[39msend(prep, \u001b[39m*\u001b[39m\u001b[39m*\u001b[39msend_kwargs)\n\u001b[0;32m    589\u001b[0m \u001b[39mreturn\u001b[39;00m resp\n",
      "File \u001b[1;32mc:\\Users\\Zakaria.kadi\\Projects\\TorchTrade\\.conda\\lib\\site-packages\\requests\\sessions.py:701\u001b[0m, in \u001b[0;36mSession.send\u001b[1;34m(self, request, **kwargs)\u001b[0m\n\u001b[0;32m    700\u001b[0m \u001b[39m# Send the request\u001b[39;00m\n\u001b[1;32m--> 701\u001b[0m r \u001b[39m=\u001b[39m adapter\u001b[39m.\u001b[39msend(request, \u001b[39m*\u001b[39m\u001b[39m*\u001b[39mkwargs)\n\u001b[0;32m    703\u001b[0m \u001b[39m# Total elapsed time of the request (approximately)\u001b[39;00m\n",
      "File \u001b[1;32mc:\\Users\\Zakaria.kadi\\Projects\\TorchTrade\\.conda\\lib\\site-packages\\requests\\adapters.py:563\u001b[0m, in \u001b[0;36mHTTPAdapter.send\u001b[1;34m(self, request, stream, timeout, verify, cert, proxies)\u001b[0m\n\u001b[0;32m    561\u001b[0m \u001b[39mif\u001b[39;00m \u001b[39misinstance\u001b[39m(e\u001b[39m.\u001b[39mreason, _SSLError):\n\u001b[0;32m    562\u001b[0m     \u001b[39m# This branch is for urllib3 v1.22 and later.\u001b[39;00m\n\u001b[1;32m--> 563\u001b[0m     \u001b[39mraise\u001b[39;00m SSLError(e, request\u001b[39m=\u001b[39mrequest)\n\u001b[0;32m    565\u001b[0m \u001b[39mraise\u001b[39;00m \u001b[39mConnectionError\u001b[39;00m(e, request\u001b[39m=\u001b[39mrequest)\n",
      "\u001b[1;31mSSLError\u001b[0m: HTTPSConnectionPool(host='api.binance.com', port=443): Max retries exceeded with url: /api/v3/exchangeInfo (Caused by SSLError(SSLCertVerificationError(1, '[SSL: CERTIFICATE_VERIFY_FAILED] certificate verify failed: self signed certificate in certificate chain (_ssl.c:997)')))",
      "\nThe above exception was the direct cause of the following exception:\n",
      "\u001b[1;31mNetworkError\u001b[0m                              Traceback (most recent call last)",
      "Cell \u001b[1;32mIn[10], line 3\u001b[0m\n\u001b[0;32m      1\u001b[0m \u001b[39m# Defining the market\u001b[39;00m\n\u001b[0;32m      2\u001b[0m datafetcher \u001b[39m=\u001b[39m CcxtFetcher(exchange,symbols,timeFrame)\n\u001b[1;32m----> 3\u001b[0m df \u001b[39m=\u001b[39m datafetcher\u001b[39m.\u001b[39;49mfetch_data()\n",
      "File \u001b[1;32m~\\Projects\\TorchTrade\\torchtrade\\data_processors\\ccxt_fetcher.py:115\u001b[0m, in \u001b[0;36mCcxtFetcher.fetch_data\u001b[1;34m(self)\u001b[0m\n\u001b[0;32m    102\u001b[0m \u001b[39m\u001b[39m\u001b[39m\"\"\"\u001b[39;00m\n\u001b[0;32m    103\u001b[0m \u001b[39mThis method is used to fetch the OHLCV data for the specified symbols and time frame.\u001b[39;00m\n\u001b[0;32m    104\u001b[0m \u001b[39m\u001b[39;00m\n\u001b[1;32m   (...)\u001b[0m\n\u001b[0;32m    112\u001b[0m \u001b[39m        - volume\u001b[39;00m\n\u001b[0;32m    113\u001b[0m \u001b[39m\"\"\"\u001b[39;00m\n\u001b[0;32m    114\u001b[0m \u001b[39mself\u001b[39m\u001b[39m.\u001b[39mexchange \u001b[39m=\u001b[39m \u001b[39mgetattr\u001b[39m(ccxt, \u001b[39mself\u001b[39m\u001b[39m.\u001b[39msource)()\n\u001b[1;32m--> 115\u001b[0m \u001b[39mself\u001b[39;49m\u001b[39m.\u001b[39;49mexchange\u001b[39m.\u001b[39;49mloadMarkets()\n\u001b[0;32m    116\u001b[0m \u001b[39mself\u001b[39m\u001b[39m.\u001b[39m_check_fetch_ohlcv()\n\u001b[0;32m    117\u001b[0m \u001b[39mself\u001b[39m\u001b[39m.\u001b[39m_check_timeframe_supported()\n",
      "File \u001b[1;32mc:\\Users\\Zakaria.kadi\\Projects\\TorchTrade\\.conda\\lib\\site-packages\\ccxt\\base\\exchange.py:1460\u001b[0m, in \u001b[0;36mExchange.load_markets\u001b[1;34m(self, reload, params)\u001b[0m\n\u001b[0;32m   1458\u001b[0m \u001b[39mif\u001b[39;00m \u001b[39mself\u001b[39m\u001b[39m.\u001b[39mhas[\u001b[39m'\u001b[39m\u001b[39mfetchCurrencies\u001b[39m\u001b[39m'\u001b[39m] \u001b[39mis\u001b[39;00m \u001b[39mTrue\u001b[39;00m:\n\u001b[0;32m   1459\u001b[0m     currencies \u001b[39m=\u001b[39m \u001b[39mself\u001b[39m\u001b[39m.\u001b[39mfetch_currencies()\n\u001b[1;32m-> 1460\u001b[0m markets \u001b[39m=\u001b[39m \u001b[39mself\u001b[39;49m\u001b[39m.\u001b[39;49mfetch_markets(params)\n\u001b[0;32m   1461\u001b[0m \u001b[39mreturn\u001b[39;00m \u001b[39mself\u001b[39m\u001b[39m.\u001b[39mset_markets(markets, currencies)\n",
      "File \u001b[1;32mc:\\Users\\Zakaria.kadi\\Projects\\TorchTrade\\.conda\\lib\\site-packages\\ccxt\\binance.py:1685\u001b[0m, in \u001b[0;36mbinance.fetch_markets\u001b[1;34m(self, params)\u001b[0m\n\u001b[0;32m   1683\u001b[0m marketType \u001b[39m=\u001b[39m fetchMarkets[i]\n\u001b[0;32m   1684\u001b[0m \u001b[39mif\u001b[39;00m marketType \u001b[39m==\u001b[39m \u001b[39m'\u001b[39m\u001b[39mspot\u001b[39m\u001b[39m'\u001b[39m:\n\u001b[1;32m-> 1685\u001b[0m     promises\u001b[39m.\u001b[39mappend(\u001b[39mself\u001b[39;49m\u001b[39m.\u001b[39;49mpublicGetExchangeInfo(params))\n\u001b[0;32m   1686\u001b[0m \u001b[39melif\u001b[39;00m marketType \u001b[39m==\u001b[39m \u001b[39m'\u001b[39m\u001b[39mlinear\u001b[39m\u001b[39m'\u001b[39m:\n\u001b[0;32m   1687\u001b[0m     promises\u001b[39m.\u001b[39mappend(\u001b[39mself\u001b[39m\u001b[39m.\u001b[39mfapiPublicGetExchangeInfo(params))\n",
      "File \u001b[1;32mc:\\Users\\Zakaria.kadi\\Projects\\TorchTrade\\.conda\\lib\\site-packages\\ccxt\\base\\exchange.py:505\u001b[0m, in \u001b[0;36mExchange.define_rest_api_endpoint.<locals>.partialer.<locals>.inner\u001b[1;34m(_self, params, context)\u001b[0m\n\u001b[0;32m    503\u001b[0m \u001b[39mif\u001b[39;00m context \u001b[39mis\u001b[39;00m \u001b[39mnot\u001b[39;00m \u001b[39mNone\u001b[39;00m:\n\u001b[0;32m    504\u001b[0m     inner_kwargs[\u001b[39m'\u001b[39m\u001b[39mcontext\u001b[39m\u001b[39m'\u001b[39m] \u001b[39m=\u001b[39m params\n\u001b[1;32m--> 505\u001b[0m \u001b[39mreturn\u001b[39;00m entry(_self, \u001b[39m*\u001b[39m\u001b[39m*\u001b[39minner_kwargs)\n",
      "File \u001b[1;32mc:\\Users\\Zakaria.kadi\\Projects\\TorchTrade\\.conda\\lib\\site-packages\\ccxt\\binance.py:6204\u001b[0m, in \u001b[0;36mbinance.request\u001b[1;34m(self, path, api, method, params, headers, body, config, context)\u001b[0m\n\u001b[0;32m   6203\u001b[0m \u001b[39mdef\u001b[39;00m \u001b[39mrequest\u001b[39m(\u001b[39mself\u001b[39m, path, api\u001b[39m=\u001b[39m\u001b[39m'\u001b[39m\u001b[39mpublic\u001b[39m\u001b[39m'\u001b[39m, method\u001b[39m=\u001b[39m\u001b[39m'\u001b[39m\u001b[39mGET\u001b[39m\u001b[39m'\u001b[39m, params\u001b[39m=\u001b[39m{}, headers\u001b[39m=\u001b[39m\u001b[39mNone\u001b[39;00m, body\u001b[39m=\u001b[39m\u001b[39mNone\u001b[39;00m, config\u001b[39m=\u001b[39m{}, context\u001b[39m=\u001b[39m{}):\n\u001b[1;32m-> 6204\u001b[0m     response \u001b[39m=\u001b[39m \u001b[39mself\u001b[39;49m\u001b[39m.\u001b[39;49mfetch2(path, api, method, params, headers, body, config, context)\n\u001b[0;32m   6205\u001b[0m     \u001b[39m# a workaround for {\"code\":-2015,\"msg\":\"Invalid API-key, IP, or permissions for action.\"}\u001b[39;00m\n\u001b[0;32m   6206\u001b[0m     \u001b[39mif\u001b[39;00m (api \u001b[39m==\u001b[39m \u001b[39m'\u001b[39m\u001b[39mprivate\u001b[39m\u001b[39m'\u001b[39m) \u001b[39mor\u001b[39;00m (api \u001b[39m==\u001b[39m \u001b[39m'\u001b[39m\u001b[39mwapi\u001b[39m\u001b[39m'\u001b[39m):\n",
      "File \u001b[1;32mc:\\Users\\Zakaria.kadi\\Projects\\TorchTrade\\.conda\\lib\\site-packages\\ccxt\\base\\exchange.py:2830\u001b[0m, in \u001b[0;36mExchange.fetch2\u001b[1;34m(self, path, api, method, params, headers, body, config, context)\u001b[0m\n\u001b[0;32m   2828\u001b[0m \u001b[39mself\u001b[39m\u001b[39m.\u001b[39mlastRestRequestTimestamp \u001b[39m=\u001b[39m \u001b[39mself\u001b[39m\u001b[39m.\u001b[39mmilliseconds()\n\u001b[0;32m   2829\u001b[0m request \u001b[39m=\u001b[39m \u001b[39mself\u001b[39m\u001b[39m.\u001b[39msign(path, api, method, params, headers, body)\n\u001b[1;32m-> 2830\u001b[0m \u001b[39mreturn\u001b[39;00m \u001b[39mself\u001b[39;49m\u001b[39m.\u001b[39;49mfetch(request[\u001b[39m'\u001b[39;49m\u001b[39murl\u001b[39;49m\u001b[39m'\u001b[39;49m], request[\u001b[39m'\u001b[39;49m\u001b[39mmethod\u001b[39;49m\u001b[39m'\u001b[39;49m], request[\u001b[39m'\u001b[39;49m\u001b[39mheaders\u001b[39;49m\u001b[39m'\u001b[39;49m], request[\u001b[39m'\u001b[39;49m\u001b[39mbody\u001b[39;49m\u001b[39m'\u001b[39;49m])\n",
      "File \u001b[1;32mc:\\Users\\Zakaria.kadi\\Projects\\TorchTrade\\.conda\\lib\\site-packages\\ccxt\\base\\exchange.py:652\u001b[0m, in \u001b[0;36mExchange.fetch\u001b[1;34m(self, url, method, headers, body)\u001b[0m\n\u001b[0;32m    650\u001b[0m         \u001b[39mraise\u001b[39;00m RequestTimeout(details) \u001b[39mfrom\u001b[39;00m \u001b[39me\u001b[39;00m\n\u001b[0;32m    651\u001b[0m     \u001b[39melse\u001b[39;00m:\n\u001b[1;32m--> 652\u001b[0m         \u001b[39mraise\u001b[39;00m NetworkError(details) \u001b[39mfrom\u001b[39;00m \u001b[39me\u001b[39;00m\n\u001b[0;32m    654\u001b[0m \u001b[39mexcept\u001b[39;00m \u001b[39mConnectionResetError\u001b[39;00m \u001b[39mas\u001b[39;00m e:\n\u001b[0;32m    655\u001b[0m     error_string \u001b[39m=\u001b[39m \u001b[39mstr\u001b[39m(e)\n",
      "\u001b[1;31mNetworkError\u001b[0m: binance GET https://api.binance.com/api/v3/exchangeInfo"
     ]
    }
   ],
   "source": [
    "# Defining the market\n",
    "datafetcher = CcxtFetcher(exchange,symbols,timeFrame)\n",
    "df = datafetcher.fetch_data()\n"
   ]
  },
  {
   "cell_type": "code",
   "execution_count": 11,
   "metadata": {},
   "outputs": [],
   "source": [
    "#Setting the clock\n",
    "time_start = df.index[0][1]\n",
    "time_end = df.index[-1][1]\n",
    "\n",
    "\n",
    "clock = Clock(time_start,timeFrame)\n",
    "\n",
    "mkt = Market(df)\n",
    "\n",
    "#Market is observing the clock\n",
    "clock.register_observer(mkt)\n"
   ]
  },
  {
   "cell_type": "code",
   "execution_count": 5,
   "metadata": {},
   "outputs": [
    {
     "data": {
      "text/html": [
       "<div>\n",
       "<style scoped>\n",
       "    .dataframe tbody tr th:only-of-type {\n",
       "        vertical-align: middle;\n",
       "    }\n",
       "\n",
       "    .dataframe tbody tr th {\n",
       "        vertical-align: top;\n",
       "    }\n",
       "\n",
       "    .dataframe thead th {\n",
       "        text-align: right;\n",
       "    }\n",
       "</style>\n",
       "<table border=\"1\" class=\"dataframe\">\n",
       "  <thead>\n",
       "    <tr style=\"text-align: right;\">\n",
       "      <th></th>\n",
       "      <th></th>\n",
       "      <th>isTraded</th>\n",
       "      <th>open</th>\n",
       "      <th>high</th>\n",
       "      <th>low</th>\n",
       "      <th>close</th>\n",
       "      <th>volume</th>\n",
       "    </tr>\n",
       "    <tr>\n",
       "      <th>symbol</th>\n",
       "      <th>timestamp</th>\n",
       "      <th></th>\n",
       "      <th></th>\n",
       "      <th></th>\n",
       "      <th></th>\n",
       "      <th></th>\n",
       "      <th></th>\n",
       "    </tr>\n",
       "  </thead>\n",
       "  <tbody>\n",
       "    <tr>\n",
       "      <th rowspan=\"5\" valign=\"top\">BTC/USDT</th>\n",
       "      <th>2017-08-17 04:00:00</th>\n",
       "      <td>1</td>\n",
       "      <td>4261.48</td>\n",
       "      <td>4280.56</td>\n",
       "      <td>4261.48</td>\n",
       "      <td>4261.48</td>\n",
       "      <td>2.189061</td>\n",
       "    </tr>\n",
       "    <tr>\n",
       "      <th>2017-08-17 04:15:00</th>\n",
       "      <td>1</td>\n",
       "      <td>4261.48</td>\n",
       "      <td>4270.41</td>\n",
       "      <td>4261.32</td>\n",
       "      <td>4261.45</td>\n",
       "      <td>9.119865</td>\n",
       "    </tr>\n",
       "    <tr>\n",
       "      <th>2017-08-17 04:30:00</th>\n",
       "      <td>1</td>\n",
       "      <td>4280.0</td>\n",
       "      <td>4310.07</td>\n",
       "      <td>4267.99</td>\n",
       "      <td>4310.07</td>\n",
       "      <td>21.923552</td>\n",
       "    </tr>\n",
       "    <tr>\n",
       "      <th>2017-08-17 04:45:00</th>\n",
       "      <td>1</td>\n",
       "      <td>4310.07</td>\n",
       "      <td>4313.62</td>\n",
       "      <td>4291.37</td>\n",
       "      <td>4308.83</td>\n",
       "      <td>13.948531</td>\n",
       "    </tr>\n",
       "    <tr>\n",
       "      <th>2017-08-17 05:00:00</th>\n",
       "      <td>1</td>\n",
       "      <td>4308.83</td>\n",
       "      <td>4328.69</td>\n",
       "      <td>4304.31</td>\n",
       "      <td>4304.31</td>\n",
       "      <td>5.101153</td>\n",
       "    </tr>\n",
       "    <tr>\n",
       "      <th>...</th>\n",
       "      <th>...</th>\n",
       "      <td>...</td>\n",
       "      <td>...</td>\n",
       "      <td>...</td>\n",
       "      <td>...</td>\n",
       "      <td>...</td>\n",
       "      <td>...</td>\n",
       "    </tr>\n",
       "    <tr>\n",
       "      <th rowspan=\"5\" valign=\"top\">ETH/USDT</th>\n",
       "      <th>2023-02-17 23:00:00</th>\n",
       "      <td>1</td>\n",
       "      <td>1698.73</td>\n",
       "      <td>1702.78</td>\n",
       "      <td>1694.06</td>\n",
       "      <td>1694.15</td>\n",
       "      <td>4521.8699</td>\n",
       "    </tr>\n",
       "    <tr>\n",
       "      <th>2023-02-17 23:15:00</th>\n",
       "      <td>1</td>\n",
       "      <td>1694.16</td>\n",
       "      <td>1696.99</td>\n",
       "      <td>1692.47</td>\n",
       "      <td>1694.72</td>\n",
       "      <td>2509.9691</td>\n",
       "    </tr>\n",
       "    <tr>\n",
       "      <th>2023-02-17 23:30:00</th>\n",
       "      <td>1</td>\n",
       "      <td>1694.72</td>\n",
       "      <td>1699.01</td>\n",
       "      <td>1694.04</td>\n",
       "      <td>1696.03</td>\n",
       "      <td>2512.4672</td>\n",
       "    </tr>\n",
       "    <tr>\n",
       "      <th>2023-02-17 23:45:00</th>\n",
       "      <td>1</td>\n",
       "      <td>1696.02</td>\n",
       "      <td>1698.53</td>\n",
       "      <td>1692.55</td>\n",
       "      <td>1693.87</td>\n",
       "      <td>3878.4939</td>\n",
       "    </tr>\n",
       "    <tr>\n",
       "      <th>2023-02-18 00:00:00</th>\n",
       "      <td>1</td>\n",
       "      <td>1693.81</td>\n",
       "      <td>1695.06</td>\n",
       "      <td>1692.14</td>\n",
       "      <td>1693.03</td>\n",
       "      <td>6508.4308</td>\n",
       "    </tr>\n",
       "  </tbody>\n",
       "</table>\n",
       "<p>386082 rows × 6 columns</p>\n",
       "</div>"
      ],
      "text/plain": [
       "                             isTraded     open     high      low    close  \\\n",
       "symbol   timestamp                                                          \n",
       "BTC/USDT 2017-08-17 04:00:00        1  4261.48  4280.56  4261.48  4261.48   \n",
       "         2017-08-17 04:15:00        1  4261.48  4270.41  4261.32  4261.45   \n",
       "         2017-08-17 04:30:00        1   4280.0  4310.07  4267.99  4310.07   \n",
       "         2017-08-17 04:45:00        1  4310.07  4313.62  4291.37  4308.83   \n",
       "         2017-08-17 05:00:00        1  4308.83  4328.69  4304.31  4304.31   \n",
       "...                               ...      ...      ...      ...      ...   \n",
       "ETH/USDT 2023-02-17 23:00:00        1  1698.73  1702.78  1694.06  1694.15   \n",
       "         2023-02-17 23:15:00        1  1694.16  1696.99  1692.47  1694.72   \n",
       "         2023-02-17 23:30:00        1  1694.72  1699.01  1694.04  1696.03   \n",
       "         2023-02-17 23:45:00        1  1696.02  1698.53  1692.55  1693.87   \n",
       "         2023-02-18 00:00:00        1  1693.81  1695.06  1692.14  1693.03   \n",
       "\n",
       "                                 volume  \n",
       "symbol   timestamp                       \n",
       "BTC/USDT 2017-08-17 04:00:00   2.189061  \n",
       "         2017-08-17 04:15:00   9.119865  \n",
       "         2017-08-17 04:30:00  21.923552  \n",
       "         2017-08-17 04:45:00  13.948531  \n",
       "         2017-08-17 05:00:00   5.101153  \n",
       "...                                 ...  \n",
       "ETH/USDT 2023-02-17 23:00:00  4521.8699  \n",
       "         2023-02-17 23:15:00  2509.9691  \n",
       "         2023-02-17 23:30:00  2512.4672  \n",
       "         2023-02-17 23:45:00  3878.4939  \n",
       "         2023-02-18 00:00:00  6508.4308  \n",
       "\n",
       "[386082 rows x 6 columns]"
      ]
     },
     "execution_count": 5,
     "metadata": {},
     "output_type": "execute_result"
    }
   ],
   "source": [
    "df"
   ]
  },
  {
   "attachments": {},
   "cell_type": "markdown",
   "metadata": {},
   "source": [
    "At each timestamp we create multiple trades with different combinations of TP and stop loss\n",
    "at the same time our architecture enable previous trades update "
   ]
  },
  {
   "cell_type": "code",
   "execution_count": 6,
   "metadata": {},
   "outputs": [
    {
     "ename": "KeyboardInterrupt",
     "evalue": "",
     "output_type": "error",
     "traceback": [
      "\u001b[1;31m---------------------------------------------------------------------------\u001b[0m",
      "\u001b[1;31mKeyboardInterrupt\u001b[0m                         Traceback (most recent call last)",
      "Cell \u001b[1;32mIn[6], line 13\u001b[0m\n\u001b[0;32m     11\u001b[0m             trade \u001b[39m=\u001b[39m [[index[\u001b[39m0\u001b[39m],index[\u001b[39m1\u001b[39m],sl,rr] \u001b[39m+\u001b[39m [BoundedTrade(index[\u001b[39m0\u001b[39m],index[\u001b[39m1\u001b[39m],row[\u001b[39m'\u001b[39m\u001b[39mclose\u001b[39m\u001b[39m'\u001b[39m],sl,rr,mkt,clock\u001b[39m.\u001b[39mtimeframe,\u001b[39m0.9\u001b[39m)] \u001b[39mfor\u001b[39;00m sl \u001b[39min\u001b[39;00m stop_loss_levels \u001b[39mfor\u001b[39;00m rr \u001b[39min\u001b[39;00m rr_levels] \n\u001b[0;32m     12\u001b[0m             trades\u001b[39m+\u001b[39m\u001b[39m=\u001b[39mtrade\n\u001b[1;32m---> 13\u001b[0m     clock\u001b[39m.\u001b[39;49mnext()\n\u001b[0;32m     15\u001b[0m trd \u001b[39m=\u001b[39m pd\u001b[39m.\u001b[39mDataFrame(trades, columns \u001b[39m=\u001b[39m[\u001b[39m'\u001b[39m\u001b[39msymbol\u001b[39m\u001b[39m'\u001b[39m, \u001b[39m'\u001b[39m\u001b[39mtimestamp\u001b[39m\u001b[39m'\u001b[39m,\u001b[39m'\u001b[39m\u001b[39mstopLoss\u001b[39m\u001b[39m'\u001b[39m,\u001b[39m'\u001b[39m\u001b[39mriskReward\u001b[39m\u001b[39m'\u001b[39m,\u001b[39m'\u001b[39m\u001b[39mtrade\u001b[39m\u001b[39m'\u001b[39m])\n",
      "File \u001b[1;32m~\\Projects\\TorchTrade\\torchtrade\\envs\\components\\clock.py:46\u001b[0m, in \u001b[0;36mClock.next\u001b[1;34m(self)\u001b[0m\n\u001b[0;32m     39\u001b[0m \u001b[39m\u001b[39m\u001b[39m\"\"\"\u001b[39;00m\n\u001b[0;32m     40\u001b[0m \u001b[39mIncrement the clock by its time interval.\u001b[39;00m\n\u001b[0;32m     41\u001b[0m \u001b[39m\u001b[39;00m\n\u001b[0;32m     42\u001b[0m \u001b[39mReturns:\u001b[39;00m\n\u001b[0;32m     43\u001b[0m \u001b[39mpd.Timestamp: The current time of the clock.\u001b[39;00m\n\u001b[0;32m     44\u001b[0m \u001b[39m\"\"\"\u001b[39;00m\n\u001b[0;32m     45\u001b[0m \u001b[39mself\u001b[39m\u001b[39m.\u001b[39mtimestamp \u001b[39m+\u001b[39m\u001b[39m=\u001b[39m \u001b[39mself\u001b[39m\u001b[39m.\u001b[39mtimeframe\n\u001b[1;32m---> 46\u001b[0m \u001b[39mself\u001b[39;49m\u001b[39m.\u001b[39;49mnotify_observers()\n\u001b[0;32m     47\u001b[0m \u001b[39mreturn\u001b[39;00m \u001b[39mself\u001b[39m\u001b[39m.\u001b[39mtimestamp\n",
      "File \u001b[1;32m~\\Projects\\TorchTrade\\torchtrade\\envs\\components\\clock.py:73\u001b[0m, in \u001b[0;36mClock.notify_observers\u001b[1;34m(self)\u001b[0m\n\u001b[0;32m     69\u001b[0m \u001b[39m\u001b[39m\u001b[39m\"\"\"\u001b[39;00m\n\u001b[0;32m     70\u001b[0m \u001b[39mNotify all registered observers that the clock has advanced.\u001b[39;00m\n\u001b[0;32m     71\u001b[0m \u001b[39m\"\"\"\u001b[39;00m\n\u001b[0;32m     72\u001b[0m \u001b[39mfor\u001b[39;00m observer \u001b[39min\u001b[39;00m \u001b[39mself\u001b[39m\u001b[39m.\u001b[39mobservers:\n\u001b[1;32m---> 73\u001b[0m     observer\u001b[39m.\u001b[39;49mupdate_timestamp(\u001b[39mself\u001b[39;49m\u001b[39m.\u001b[39;49mtimestamp)\n",
      "File \u001b[1;32m~\\Projects\\TorchTrade\\torchtrade\\envs\\components\\market.py:31\u001b[0m, in \u001b[0;36mMarket.update_timestamp\u001b[1;34m(self, timestamp)\u001b[0m\n\u001b[0;32m     29\u001b[0m \u001b[39mself\u001b[39m\u001b[39m.\u001b[39mtimestamp \u001b[39m=\u001b[39m timestamp\n\u001b[0;32m     30\u001b[0m \u001b[39mself\u001b[39m\u001b[39m.\u001b[39mupdate_mktData() \n\u001b[1;32m---> 31\u001b[0m \u001b[39mself\u001b[39;49m\u001b[39m.\u001b[39;49mnotify_observers()\n",
      "File \u001b[1;32m~\\Projects\\TorchTrade\\torchtrade\\envs\\components\\market.py:55\u001b[0m, in \u001b[0;36mMarket.notify_observers\u001b[1;34m(self)\u001b[0m\n\u001b[0;32m     53\u001b[0m \u001b[39m\u001b[39m\u001b[39m\"\"\"Notify all registered observers with the updated market data.\"\"\"\u001b[39;00m\n\u001b[0;32m     54\u001b[0m \u001b[39mfor\u001b[39;00m observer \u001b[39min\u001b[39;00m \u001b[39mself\u001b[39m\u001b[39m.\u001b[39mobservers:\n\u001b[1;32m---> 55\u001b[0m     observer\u001b[39m.\u001b[39;49mupdate_mktData(\u001b[39mself\u001b[39;49m\u001b[39m.\u001b[39;49mdata)\n",
      "File \u001b[1;32m~\\Projects\\TorchTrade\\torchtrade\\envs\\components\\trade.py:55\u001b[0m, in \u001b[0;36mBoundedTrade.update_mktData\u001b[1;34m(self, data)\u001b[0m\n\u001b[0;32m     48\u001b[0m \u001b[39m\u001b[39m\u001b[39m\"\"\"\u001b[39;00m\n\u001b[0;32m     49\u001b[0m \u001b[39mUpdate the trade's state with new market data.\u001b[39;00m\n\u001b[0;32m     50\u001b[0m \n\u001b[0;32m     51\u001b[0m \u001b[39mArgs:\u001b[39;00m\n\u001b[0;32m     52\u001b[0m \u001b[39m    data (pd.DataFrame): The updated market data for the trade.\u001b[39;00m\n\u001b[0;32m     53\u001b[0m \u001b[39m\"\"\"\u001b[39;00m\n\u001b[0;32m     54\u001b[0m timestamp \u001b[39m=\u001b[39m data\u001b[39m.\u001b[39mindex[\u001b[39m0\u001b[39m][\u001b[39m1\u001b[39m]\n\u001b[1;32m---> 55\u001b[0m is_traded \u001b[39m=\u001b[39m data\u001b[39m.\u001b[39;49mloc[(\u001b[39mself\u001b[39;49m\u001b[39m.\u001b[39;49msymbol, timestamp), \u001b[39m'\u001b[39;49m\u001b[39misTraded\u001b[39;49m\u001b[39m'\u001b[39;49m]\n\u001b[0;32m     56\u001b[0m \u001b[39mif\u001b[39;00m \u001b[39mnot\u001b[39;00m \u001b[39mself\u001b[39m\u001b[39m.\u001b[39mis_open \u001b[39mor\u001b[39;00m timestamp \u001b[39m<\u001b[39m\u001b[39m=\u001b[39m \u001b[39mself\u001b[39m\u001b[39m.\u001b[39mentry_timestamp \u001b[39mor\u001b[39;00m is_traded\u001b[39m==\u001b[39m\u001b[39m0\u001b[39m:\n\u001b[0;32m     57\u001b[0m     \u001b[39mpass\u001b[39;00m\n",
      "File \u001b[1;32mc:\\Users\\Zakaria.kadi\\Projects\\TorchTrade\\.conda\\lib\\site-packages\\pandas\\core\\indexing.py:1067\u001b[0m, in \u001b[0;36m_LocationIndexer.__getitem__\u001b[1;34m(self, key)\u001b[0m\n\u001b[0;32m   1065\u001b[0m     \u001b[39mif\u001b[39;00m \u001b[39mself\u001b[39m\u001b[39m.\u001b[39m_is_scalar_access(key):\n\u001b[0;32m   1066\u001b[0m         \u001b[39mreturn\u001b[39;00m \u001b[39mself\u001b[39m\u001b[39m.\u001b[39mobj\u001b[39m.\u001b[39m_get_value(\u001b[39m*\u001b[39mkey, takeable\u001b[39m=\u001b[39m\u001b[39mself\u001b[39m\u001b[39m.\u001b[39m_takeable)\n\u001b[1;32m-> 1067\u001b[0m     \u001b[39mreturn\u001b[39;00m \u001b[39mself\u001b[39;49m\u001b[39m.\u001b[39;49m_getitem_tuple(key)\n\u001b[0;32m   1068\u001b[0m \u001b[39melse\u001b[39;00m:\n\u001b[0;32m   1069\u001b[0m     \u001b[39m# we by definition only have the 0th axis\u001b[39;00m\n\u001b[0;32m   1070\u001b[0m     axis \u001b[39m=\u001b[39m \u001b[39mself\u001b[39m\u001b[39m.\u001b[39maxis \u001b[39mor\u001b[39;00m \u001b[39m0\u001b[39m\n",
      "File \u001b[1;32mc:\\Users\\Zakaria.kadi\\Projects\\TorchTrade\\.conda\\lib\\site-packages\\pandas\\core\\indexing.py:1247\u001b[0m, in \u001b[0;36m_LocIndexer._getitem_tuple\u001b[1;34m(self, tup)\u001b[0m\n\u001b[0;32m   1245\u001b[0m \u001b[39mwith\u001b[39;00m suppress(IndexingError):\n\u001b[0;32m   1246\u001b[0m     tup \u001b[39m=\u001b[39m \u001b[39mself\u001b[39m\u001b[39m.\u001b[39m_expand_ellipsis(tup)\n\u001b[1;32m-> 1247\u001b[0m     \u001b[39mreturn\u001b[39;00m \u001b[39mself\u001b[39;49m\u001b[39m.\u001b[39;49m_getitem_lowerdim(tup)\n\u001b[0;32m   1249\u001b[0m \u001b[39m# no multi-index, so validate all of the indexers\u001b[39;00m\n\u001b[0;32m   1250\u001b[0m tup \u001b[39m=\u001b[39m \u001b[39mself\u001b[39m\u001b[39m.\u001b[39m_validate_tuple_indexer(tup)\n",
      "File \u001b[1;32mc:\\Users\\Zakaria.kadi\\Projects\\TorchTrade\\.conda\\lib\\site-packages\\pandas\\core\\indexing.py:941\u001b[0m, in \u001b[0;36m_LocationIndexer._getitem_lowerdim\u001b[1;34m(self, tup)\u001b[0m\n\u001b[0;32m    939\u001b[0m \u001b[39m# we may have a nested tuples indexer here\u001b[39;00m\n\u001b[0;32m    940\u001b[0m \u001b[39mif\u001b[39;00m \u001b[39mself\u001b[39m\u001b[39m.\u001b[39m_is_nested_tuple_indexer(tup):\n\u001b[1;32m--> 941\u001b[0m     \u001b[39mreturn\u001b[39;00m \u001b[39mself\u001b[39;49m\u001b[39m.\u001b[39;49m_getitem_nested_tuple(tup)\n\u001b[0;32m    943\u001b[0m \u001b[39m# we maybe be using a tuple to represent multiple dimensions here\u001b[39;00m\n\u001b[0;32m    944\u001b[0m ax0 \u001b[39m=\u001b[39m \u001b[39mself\u001b[39m\u001b[39m.\u001b[39mobj\u001b[39m.\u001b[39m_get_axis(\u001b[39m0\u001b[39m)\n",
      "File \u001b[1;32mc:\\Users\\Zakaria.kadi\\Projects\\TorchTrade\\.conda\\lib\\site-packages\\pandas\\core\\indexing.py:1047\u001b[0m, in \u001b[0;36m_LocationIndexer._getitem_nested_tuple\u001b[1;34m(self, tup)\u001b[0m\n\u001b[0;32m   1044\u001b[0m     axis \u001b[39m-\u001b[39m\u001b[39m=\u001b[39m \u001b[39m1\u001b[39m\n\u001b[0;32m   1045\u001b[0m     \u001b[39mcontinue\u001b[39;00m\n\u001b[1;32m-> 1047\u001b[0m obj \u001b[39m=\u001b[39m \u001b[39mgetattr\u001b[39;49m(obj, \u001b[39mself\u001b[39;49m\u001b[39m.\u001b[39;49mname)\u001b[39m.\u001b[39;49m_getitem_axis(key, axis\u001b[39m=\u001b[39;49maxis)\n\u001b[0;32m   1048\u001b[0m axis \u001b[39m-\u001b[39m\u001b[39m=\u001b[39m \u001b[39m1\u001b[39m\n\u001b[0;32m   1050\u001b[0m \u001b[39m# if we have a scalar, we are done\u001b[39;00m\n",
      "File \u001b[1;32mc:\\Users\\Zakaria.kadi\\Projects\\TorchTrade\\.conda\\lib\\site-packages\\pandas\\core\\indexing.py:1283\u001b[0m, in \u001b[0;36m_LocIndexer._getitem_axis\u001b[1;34m(self, key, axis)\u001b[0m\n\u001b[0;32m   1280\u001b[0m \u001b[39mif\u001b[39;00m key \u001b[39mis\u001b[39;00m \u001b[39mEllipsis\u001b[39m:\n\u001b[0;32m   1281\u001b[0m     key \u001b[39m=\u001b[39m \u001b[39mslice\u001b[39m(\u001b[39mNone\u001b[39;00m)\n\u001b[1;32m-> 1283\u001b[0m labels \u001b[39m=\u001b[39m \u001b[39mself\u001b[39;49m\u001b[39m.\u001b[39;49mobj\u001b[39m.\u001b[39;49m_get_axis(axis)\n\u001b[0;32m   1285\u001b[0m \u001b[39mif\u001b[39;00m \u001b[39misinstance\u001b[39m(key, \u001b[39mtuple\u001b[39m) \u001b[39mand\u001b[39;00m \u001b[39misinstance\u001b[39m(labels, MultiIndex):\n\u001b[0;32m   1286\u001b[0m     key \u001b[39m=\u001b[39m \u001b[39mtuple\u001b[39m(key)\n",
      "File \u001b[1;32mc:\\Users\\Zakaria.kadi\\Projects\\TorchTrade\\.conda\\lib\\site-packages\\pandas\\core\\generic.py:566\u001b[0m, in \u001b[0;36mNDFrame._get_axis\u001b[1;34m(self, axis)\u001b[0m\n\u001b[0;32m    564\u001b[0m \u001b[39m@final\u001b[39m\n\u001b[0;32m    565\u001b[0m \u001b[39mdef\u001b[39;00m \u001b[39m_get_axis\u001b[39m(\u001b[39mself\u001b[39m, axis: Axis) \u001b[39m-\u001b[39m\u001b[39m>\u001b[39m Index:\n\u001b[1;32m--> 566\u001b[0m     axis_number \u001b[39m=\u001b[39m \u001b[39mself\u001b[39;49m\u001b[39m.\u001b[39;49m_get_axis_number(axis)\n\u001b[0;32m    567\u001b[0m     \u001b[39massert\u001b[39;00m axis_number \u001b[39min\u001b[39;00m {\u001b[39m0\u001b[39m, \u001b[39m1\u001b[39m}\n\u001b[0;32m    568\u001b[0m     \u001b[39mreturn\u001b[39;00m \u001b[39mself\u001b[39m\u001b[39m.\u001b[39mindex \u001b[39mif\u001b[39;00m axis_number \u001b[39m==\u001b[39m \u001b[39m0\u001b[39m \u001b[39melse\u001b[39;00m \u001b[39mself\u001b[39m\u001b[39m.\u001b[39mcolumns\n",
      "\u001b[1;31mKeyboardInterrupt\u001b[0m: "
     ]
    }
   ],
   "source": [
    "clock.reset()\n",
    "\n",
    "stop_loss_levels = [1,2,3,4,5]\n",
    "rr_levels = [1.5 , 2 , 2.5,3]\n",
    "\n",
    "trades= []\n",
    "while clock.timestamp < time_end : \n",
    "    data = mkt.data\n",
    "    for index, row in data.iterrows():\n",
    "        if row['isTraded'] == 1:\n",
    "            trade = [[index[0],index[1],sl,rr] + [BoundedTrade(index[0],index[1],row['close'],sl,rr,mkt,clock.timeframe,0.9)] for sl in stop_loss_levels for rr in rr_levels] \n",
    "            trades+=trade\n",
    "    clock.next()\n",
    "\n",
    "trd = pd.DataFrame(trades, columns =['symbol', 'timestamp','stopLoss','riskReward','trade'])\n",
    "trd.set_index(['symbol', 'timestamp', 'stopLoss', 'riskReward'], inplace=True)\n",
    "trd[\"win/loss\"] = trd['trade'].apply(lambda t : t.reward)\n",
    "trd.to_csv('data.csv',index=False)\n"
   ]
  },
  {
   "cell_type": "code",
   "execution_count": 7,
   "metadata": {},
   "outputs": [
    {
     "ename": "NameError",
     "evalue": "name 'trd' is not defined",
     "output_type": "error",
     "traceback": [
      "\u001b[1;31m---------------------------------------------------------------------------\u001b[0m",
      "\u001b[1;31mNameError\u001b[0m                                 Traceback (most recent call last)",
      "Cell \u001b[1;32mIn[7], line 1\u001b[0m\n\u001b[1;32m----> 1\u001b[0m trd\u001b[39m.\u001b[39mset_index([\u001b[39m'\u001b[39m\u001b[39msymbol\u001b[39m\u001b[39m'\u001b[39m, \u001b[39m'\u001b[39m\u001b[39mtimestamp\u001b[39m\u001b[39m'\u001b[39m, \u001b[39m'\u001b[39m\u001b[39mstopLoss\u001b[39m\u001b[39m'\u001b[39m, \u001b[39m'\u001b[39m\u001b[39mriskReward\u001b[39m\u001b[39m'\u001b[39m], inplace\u001b[39m=\u001b[39m\u001b[39mTrue\u001b[39;00m)\n\u001b[0;32m      2\u001b[0m trd[\u001b[39m\"\u001b[39m\u001b[39mwin/loss\u001b[39m\u001b[39m\"\u001b[39m] \u001b[39m=\u001b[39m trd[\u001b[39m'\u001b[39m\u001b[39mtrade\u001b[39m\u001b[39m'\u001b[39m]\u001b[39m.\u001b[39mapply(\u001b[39mlambda\u001b[39;00m t : t\u001b[39m.\u001b[39mreward)\n\u001b[0;32m      3\u001b[0m trd\u001b[39m.\u001b[39mto_csv(\u001b[39m'\u001b[39m\u001b[39mtoto.csv\u001b[39m\u001b[39m'\u001b[39m,index\u001b[39m=\u001b[39m\u001b[39mFalse\u001b[39;00m)\n",
      "\u001b[1;31mNameError\u001b[0m: name 'trd' is not defined"
     ]
    }
   ],
   "source": []
  }
 ],
 "metadata": {
  "kernelspec": {
   "display_name": "Python 3",
   "language": "python",
   "name": "python3"
  },
  "language_info": {
   "codemirror_mode": {
    "name": "ipython",
    "version": 3
   },
   "file_extension": ".py",
   "mimetype": "text/x-python",
   "name": "python",
   "nbconvert_exporter": "python",
   "pygments_lexer": "ipython3",
   "version": "3.10.9"
  },
  "orig_nbformat": 4,
  "vscode": {
   "interpreter": {
    "hash": "e8a076ef0d37c82058ef7a0b39e1acc2485677b3fc7642ff64bb66c73a638b56"
   }
  }
 },
 "nbformat": 4,
 "nbformat_minor": 2
}
